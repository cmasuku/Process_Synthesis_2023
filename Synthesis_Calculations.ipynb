{
 "cells": [
  {
   "cell_type": "code",
   "execution_count": 1,
   "metadata": {},
   "outputs": [],
   "source": [
    "# CHE 597: Process Synthesis\n",
    "# Course Code to try out various calculations"
   ]
  },
  {
   "cell_type": "code",
   "execution_count": 93,
   "metadata": {},
   "outputs": [],
   "source": [
    "# Enthalpies of Formations kJ/mol\n",
    "# Information from the NIST JANAF Thermochemical Tables\n",
    "# janaf.nist.gov\n",
    "# Other components from Engineering Toolbox\n",
    "\n",
    "H_f0_CO_g = -110.527\n",
    "H_f0_CO2_g = -393.522\n",
    "H_f0_H2O_g = -241.826\n",
    "H_f0_H2O_l = -285.830\n",
    "H_f0_NH3_g = -45.898\n",
    "H_f0_CH4_g = -74.873\n",
    "H_f0_CH3OH_l = -239.2\n",
    "H_f0_C2H6_g = -84\n",
    "H_f0_C2H5OH_l = -277.6\n",
    "H_f0_C3H8_g = -103.8\n",
    "H_f0_C4H10_g = -125.7\n"
   ]
  },
  {
   "cell_type": "code",
   "execution_count": 94,
   "metadata": {},
   "outputs": [],
   "source": [
    "# Gibbs Energies of Formations at standard temperature and pressure\n",
    "G_f0_CO_g = -137.163\n",
    "G_f0_CO2_g = -394.389\n",
    "G_f0_H2O_g = -228.582\n",
    "G_f0_H2O_l = -237.141\n",
    "G_f0_NH3_g = -16.367\n",
    "G_f0_CH4_g = -50.768\n",
    "G_f0_CH3OH_l = -166.6\n",
    "G_f0_C2H6_g = -32\n",
    "G_f0_C2H5OH_l = -174.8\n",
    "G_f0_C3H8_g = -23.4\n",
    "G_f0_C4H10_g = -17\n"
   ]
  },
  {
   "cell_type": "code",
   "execution_count": 95,
   "metadata": {},
   "outputs": [
    {
     "name": "stdout",
     "output_type": "stream",
     "text": [
      "-164.327\n"
     ]
    }
   ],
   "source": [
    "# Consider a methanol production process\n",
    "# CH4_g + 1/2 O2 ==> CH3OH_l\n",
    "\n",
    "# Overall Energy Balance\n",
    "# \\delta H = \n",
    "H_CH4_CH3OH = H_f0_CH3OH_l - H_f0_CH4_g\n",
    "print(H_CH4_CH3OH)\n"
   ]
  },
  {
   "cell_type": "code",
   "execution_count": 96,
   "metadata": {},
   "outputs": [
    {
     "name": "stdout",
     "output_type": "stream",
     "text": [
      "121.50299999999999\n"
     ]
    }
   ],
   "source": [
    "# For a methanol process with steam reforming\n",
    "# CH4_g + H2O_l ==> CH3OH_l + H2_g\n",
    "\n",
    "# Overall Energy Balance\n",
    "\n",
    "H_CH4_H2O_CH3OH = H_f0_CH3OH_l - H_f0_CH4_g - H_f0_H2O_l\n",
    "print(H_CH4_H2O_CH3OH)"
   ]
  },
  {
   "cell_type": "code",
   "execution_count": 97,
   "metadata": {},
   "outputs": [
    {
     "name": "stdout",
     "output_type": "stream",
     "text": [
      "157.97599999999997\n"
     ]
    }
   ],
   "source": [
    "# Ethanol Production\n",
    "\n",
    "# 2CH4_g + H2O_l ==> C2H5OH_l + 5H2_g\n",
    "\n",
    "# Overall Energy Balance\n",
    "\n",
    "H_CH4_H2O_C2H5OH = H_f0_C2H5OH_l - 2*H_f0_CH4_g - H_f0_H2O_l\n",
    "print(H_CH4_H2O_C2H5OH)"
   ]
  },
  {
   "cell_type": "code",
   "execution_count": 98,
   "metadata": {},
   "outputs": [
    {
     "name": "stdout",
     "output_type": "stream",
     "text": [
      "348.04600000000005\n"
     ]
    }
   ],
   "source": [
    "# The Inverted Ethanol Process to Hydrogen\n",
    "\n",
    "# C2H5OH_l + 3H2O ==> 2CO2_g + H2_g\n",
    "\n",
    "H_C2H5OH_H2O_CO2_H2 = 2*H_f0_CO2_g - H_f0_C2H5OH_l - 3*H_f0_H2O_l\n",
    "print(H_C2H5OH_H2O_CO2_H2)"
   ]
  },
  {
   "cell_type": "code",
   "execution_count": 99,
   "metadata": {},
   "outputs": [],
   "source": [
    "# Constrained Optimization\n",
    "\n",
    "# Some example\n"
   ]
  },
  {
   "cell_type": "code",
   "execution_count": 100,
   "metadata": {},
   "outputs": [
    {
     "name": "stdout",
     "output_type": "stream",
     "text": [
      "88.35499999999996\n"
     ]
    }
   ],
   "source": [
    "import numpy as np\n",
    "from scipy.optimize import minimize\n",
    "\n",
    "# Defining our objective function from the carbon balance\n",
    "def objective(X):\n",
    "    a, b, c, d, e, f = X\n",
    "    return b*H_f0_CH4_g + c*H_f0_H2O_l + e*H_f0_CO2_g - H_f0_CH3OH_l\n",
    "\n",
    "# using the other equations as equality constraints\n",
    "def eq1(X):\n",
    "    a, b, c, d, e, f = X\n",
    "    return 1 - a - b - e\n",
    "\n",
    "def eq2(X):\n",
    "    a, b, c, d, e, f = X\n",
    "    return 4 - 4*b - 2*c - 2*f\n",
    "\n",
    "def eq3(X):\n",
    "    a, b, c, d, e, f = X\n",
    "    return 1 - c - 2*d - 2*e\n",
    "\n",
    "# Now defining the inequality constraints\n",
    "#def ineq1(X):\n",
    "#    a, b, c, d, e, f = X\n",
    "#    return b*H_f0_CH4_g + c*H_f0_H2O_l + e*H_f0_CO2_g - H_f0_CH3OH_l\n",
    "\n",
    "def ineq2(X):\n",
    "    a, b, c, d, e, f = X\n",
    "    return b*G_f0_CH4_g + c*G_f0_H2O_l + e*G_f0_CO2_g - G_f0_CH3OH_l\n",
    "\n",
    "# Set the other inequalities as bounds\n",
    "bounds_a = (0, 4)\n",
    "bounds_b = (0, 4)\n",
    "bounds_c = (-4, 4)\n",
    "bounds_d = (0, 4)\n",
    "bounds_e = (-0.001, 0.001)\n",
    "bounds_f = (-8, 0)\n",
    "\n",
    "bnds = (bounds_a, bounds_b, bounds_c, bounds_d, bounds_e, bounds_f)\n",
    "\n",
    "# initial guesses to help the program find the solution\n",
    "X0 = [0.2, 0.2, 0.2, 0.2, 0.2, 0.2]\n",
    "\n",
    "# Just to test\n",
    "print(objective(X0))"
   ]
  },
  {
   "cell_type": "code",
   "execution_count": 101,
   "metadata": {},
   "outputs": [
    {
     "name": "stdout",
     "output_type": "stream",
     "text": [
      "     fun: 24.61723611308949\n",
      "     jac: array([   0.        ,  -74.87299919, -285.82999802,    0.        ,\n",
      "       -393.52199936,    0.        ])\n",
      " message: 'Optimization terminated successfully'\n",
      "    nfev: 14\n",
      "     nit: 2\n",
      "    njev: 2\n",
      "  status: 0\n",
      " success: True\n",
      "       x: array([ 4.84894513e-10,  1.00100000e+00,  4.89901035e-01,  2.56049483e-01,\n",
      "       -1.00000000e-03, -4.91901036e-01])\n"
     ]
    }
   ],
   "source": [
    "# Creating the constraint list\n",
    "constr1 = {'type': 'eq', 'fun': eq1}\n",
    "constr2 = {'type': 'eq', 'fun': eq2}\n",
    "constr3 = {'type': 'eq', 'fun': eq3}\n",
    "constr4 = {'type': 'ineq', 'fun': ineq2}\n",
    "\n",
    "constr = [constr1, constr2, constr3, constr4]\n",
    "\n",
    "sol = minimize(objective, X0, bounds=bnds, constraints=constr)\n",
    "print(sol)"
   ]
  },
  {
   "cell_type": "code",
   "execution_count": 102,
   "metadata": {},
   "outputs": [
    {
     "name": "stdout",
     "output_type": "stream",
     "text": [
      "-3.7990466239534726e-07\n"
     ]
    }
   ],
   "source": [
    "x_s = sol.x\n",
    "print(ineq2(x_s))"
   ]
  },
  {
   "cell_type": "code",
   "execution_count": 103,
   "metadata": {},
   "outputs": [
    {
     "name": "stdout",
     "output_type": "stream",
     "text": [
      "     fun: -24.316698529310855\n",
      "     jac: array([   0.        ,  -50.76799965, -237.14099884,    0.        ,\n",
      "       -394.38899994,   -0.        ])\n",
      " message: 'Optimization terminated successfully'\n",
      "    nfev: 14\n",
      "     nit: 6\n",
      "    njev: 2\n",
      "  status: 0\n",
      " success: True\n",
      "       x: array([ 3.28987458e-01,  6.70012539e-01,  6.59974922e-01,  1.69012537e-01,\n",
      "        1.00000000e-03, -2.78579715e-10])\n"
     ]
    }
   ],
   "source": [
    "import numpy as np\n",
    "from scipy.optimize import minimize\n",
    "\n",
    "# Defining our objective function from the carbon balance\n",
    "def objective(X):\n",
    "    a, b, c, d, e, f = X\n",
    "    return b*G_f0_CH4_g + c*G_f0_H2O_l + e*G_f0_CO2_g - G_f0_CH3OH_l\n",
    "\n",
    "# using the other equations as equality constraints\n",
    "def eq1(X):\n",
    "    a, b, c, d, e, f = X\n",
    "    return 1 - a - b - e\n",
    "\n",
    "def eq2(X):\n",
    "    a, b, c, d, e, f = X\n",
    "    return 4 - 4*b - 2*c - 2*f\n",
    "\n",
    "def eq3(X):\n",
    "    a, b, c, d, e, f = X\n",
    "    return 1 - c - 2*d - 2*e\n",
    "\n",
    "# Now defining the inequality constraints\n",
    "def ineq1(X):\n",
    "    a, b, c, d, e, f = X\n",
    "    return b*H_f0_CH4_g + c*H_f0_H2O_l + e*H_f0_CO2_g - H_f0_CH3OH_l\n",
    "\n",
    "#def ineq2(X):\n",
    "#    a, b, c, d, e, f = X\n",
    "#    return b*G_f0_CH4_g + c*G_f0_H2O_l + e*G_f0_CO2_g - G_f0_CH3OH_l\n",
    "\n",
    "# Set the other inequalities as bounds\n",
    "bounds_a = (0, 4)\n",
    "bounds_b = (0, 4)\n",
    "bounds_c = (-4, 4)\n",
    "bounds_d = (0, 4)\n",
    "bounds_e = (-0.001, 0.001)\n",
    "bounds_f = (-8, 0)\n",
    "\n",
    "bnds = (bounds_a, bounds_b, bounds_c, bounds_d, bounds_e, bounds_f)\n",
    "\n",
    "# initial guesses to help the program find the solution\n",
    "X0 = [0.2, 0.2, 0.2, 0.2, 0.2, 0.2]\n",
    "\n",
    "# Creating the constraint list\n",
    "constr1 = {'type': 'eq', 'fun': eq1}\n",
    "constr2 = {'type': 'eq', 'fun': eq2}\n",
    "constr3 = {'type': 'eq', 'fun': eq3}\n",
    "constr4 = {'type': 'ineq', 'fun': ineq1}\n",
    "\n",
    "constr = [constr1, constr2, constr3, constr4]\n",
    "\n",
    "sol = minimize(objective, X0, bounds=bnds, constraints=constr)\n",
    "print(sol)\n"
   ]
  },
  {
   "cell_type": "code",
   "execution_count": 104,
   "metadata": {},
   "outputs": [
    {
     "name": "stdout",
     "output_type": "stream",
     "text": [
      "-2.75634241120315e-06\n"
     ]
    }
   ],
   "source": [
    "x_s = sol.x\n",
    "print(ineq1(x_s))"
   ]
  },
  {
   "cell_type": "code",
   "execution_count": null,
   "metadata": {},
   "outputs": [],
   "source": []
  },
  {
   "cell_type": "code",
   "execution_count": null,
   "metadata": {},
   "outputs": [],
   "source": []
  },
  {
   "cell_type": "code",
   "execution_count": null,
   "metadata": {},
   "outputs": [],
   "source": []
  }
 ],
 "metadata": {
  "kernelspec": {
   "display_name": "Python 3",
   "language": "python",
   "name": "python3"
  },
  "language_info": {
   "codemirror_mode": {
    "name": "ipython",
    "version": 3
   },
   "file_extension": ".py",
   "mimetype": "text/x-python",
   "name": "python",
   "nbconvert_exporter": "python",
   "pygments_lexer": "ipython3",
   "version": "3.7.2"
  }
 },
 "nbformat": 4,
 "nbformat_minor": 2
}
